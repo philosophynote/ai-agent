{
 "cells": [
  {
   "cell_type": "code",
   "execution_count": 16,
   "id": "35c9e7b1-8654-4d26-ab6d-d3bbb7f0faae",
   "metadata": {},
   "outputs": [],
   "source": [
    "from dotenv import load_dotenv\n",
    "import os\n",
    "from typing import List\n",
    "\n",
    "load_dotenv()\n",
    "LANGCHAIN_API_KEY = os.getenv(\"LANGCHAIN_API_KEY\")\n",
    "OPENAI_API_KEY = os.getenv(\"OPENAI_API_KEY\")"
   ]
  },
  {
   "cell_type": "code",
   "execution_count": 27,
   "id": "fa2aaaf0-9727-4bc4-a2b6-dfba0cb4b403",
   "metadata": {},
   "outputs": [],
   "source": [
    "from langchain_core.prompts import PromptTemplate\n",
    "from langchain_openai import ChatOpenAI\n",
    "from pydantic import BaseModel, Field\n",
    "\n",
    "template = \"\"\"\n",
    "Your task is to analyze the following tech news or blog post and tag relevant technical information based on the provided tags.\n",
    "\n",
    "Please follow these steps:\n",
    "1. Analyze the entire text and identify sections related to the specified technical tags (e.g., \"LLM\", \"Python\", \"JavaScript\").\n",
    "2. For each tag, provide a concise summary of the relevant information found in the text.\n",
    "3. Prioritize information related to the specified tags and ensure the output follows the format below.\n",
    "\n",
    "Output format:\n",
    "- tags: [technology name]\n",
    "\n",
    "\n",
    "Here is the text for analysis:\n",
    "{text}\n",
    "\"\"\"\n",
    "tagging_prompt = PromptTemplate.from_template(template)\n",
    "\n",
    "\n",
    "class Classification(BaseModel):\n",
    "    tags: List[str] = Field(\n",
    "        description=\"tag list\"\n",
    "    )\n",
    "\n",
    "\n",
    "# LLM\n",
    "llm = ChatOpenAI(temperature=0, \n",
    "                 model=\"gpt-4o-mini\",\n",
    "                 api_key=OPENAI_API_KEY).with_structured_output(\n",
    "    Classification\n",
    ")\n",
    "\n",
    "tagging_chain = tagging_prompt | llm"
   ]
  },
  {
   "cell_type": "code",
   "execution_count": 30,
   "id": "6a13f118-9185-424e-bf3b-5e0f8e9837b6",
   "metadata": {},
   "outputs": [
    {
     "data": {
      "text/plain": [
       "Classification(tags=['Next.js', 'Rails', 'Security', 'TypeScript', 'Prisma'])"
      ]
     },
     "execution_count": 30,
     "metadata": {},
     "output_type": "execute_result"
    }
   ],
   "source": [
    "tags = [\"LLM\", \"Python\", \"JavaScript\"]\n",
    "inp = soup.text\n",
    "tagging_chain.invoke({\"text\":inp})"
   ]
  },
  {
   "cell_type": "markdown",
   "id": "1eeefeda-376f-4743-bccc-cefc8f4dd0d2",
   "metadata": {},
   "source": [
    "コードを1行ずつ読む\n",
    "\n",
    "## ChatPromptTemplate\n",
    "https://python.langchain.com/api_reference/core/prompts/langchain_core.prompts.chat.ChatPromptTemplate.html#chatprompttemplate\n",
    "\n",
    "invokeに{プロンプト内で指定した変数名:渡したい内容}で渡す\n",
    "\n",
    "invokeとformatは何が違う？"
   ]
  },
  {
   "cell_type": "code",
   "execution_count": 1,
   "id": "0dbb5ca5-84b8-4f97-9b7b-a0af613ca5d6",
   "metadata": {},
   "outputs": [],
   "source": [
    "from bs4 import BeautifulSoup\n",
    "import urllib.request"
   ]
  },
  {
   "cell_type": "code",
   "execution_count": 29,
   "id": "d3462e7e-709d-45e8-bf66-dfa0b7147d4a",
   "metadata": {},
   "outputs": [],
   "source": [
    "url = \"\"\n",
    "headers = { \"User-Agent\": \"Mozilla/5.0 (X11; Ubuntu; Linux x86_64; rv:47.0) Gecko/20100101 Firefox/47.0\" } \n",
    "\n",
    "\n",
    "\n",
    "request = urllib.request.Request(url, headers=headers)\n",
    "with urllib.request.urlopen(request) as response:\n",
    "  html = response.read()\n",
    "soup = BeautifulSoup(html, \"lxml\")"
   ]
  },
  {
   "cell_type": "code",
   "execution_count": null,
   "id": "924caa7a-3ed9-4ca0-b572-dde8248b1636",
   "metadata": {},
   "outputs": [],
   "source": []
  }
 ],
 "metadata": {
  "kernelspec": {
   "display_name": "Python 3 (ipykernel)",
   "language": "python",
   "name": "python3"
  },
  "language_info": {
   "codemirror_mode": {
    "name": "ipython",
    "version": 3
   },
   "file_extension": ".py",
   "mimetype": "text/x-python",
   "name": "python",
   "nbconvert_exporter": "python",
   "pygments_lexer": "ipython3",
   "version": "3.12.4"
  }
 },
 "nbformat": 4,
 "nbformat_minor": 5
}
